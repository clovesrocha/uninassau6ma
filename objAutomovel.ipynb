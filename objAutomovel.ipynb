{
  "nbformat": 4,
  "nbformat_minor": 0,
  "metadata": {
    "colab": {
      "provenance": [],
      "authorship_tag": "ABX9TyOMN0vwKbgzvI2rtAnww31z",
      "include_colab_link": true
    },
    "kernelspec": {
      "name": "python3",
      "display_name": "Python 3"
    },
    "language_info": {
      "name": "python"
    }
  },
  "cells": [
    {
      "cell_type": "markdown",
      "metadata": {
        "id": "view-in-github",
        "colab_type": "text"
      },
      "source": [
        "<a href=\"https://colab.research.google.com/github/clovesrocha/uninassau6ma/blob/main/objAutomovel.ipynb\" target=\"_parent\"><img src=\"https://colab.research.google.com/assets/colab-badge.svg\" alt=\"Open In Colab\"/></a>"
      ]
    },
    {
      "cell_type": "code",
      "execution_count": 6,
      "metadata": {
        "colab": {
          "base_uri": "https://localhost:8080/"
        },
        "id": "wL6NgRII4GQL",
        "outputId": "b9c792f6-9a9a-4a35-9b73-3d1fbaca6db8"
      },
      "outputs": [
        {
          "output_type": "execute_result",
          "data": {
            "text/plain": [
              "9"
            ]
          },
          "metadata": {},
          "execution_count": 6
        }
      ],
      "source": [
        "# UNINASSAU\n",
        "# Docente: Prof. Cloves Rocha\n",
        "# Exemplo Nocoes OO Python\n",
        "\n",
        "class Automovel:\n",
        "  def __init__(self):\n",
        "    self._nrodas = 4\n",
        "  def set_nrodas(self, n):\n",
        "    self._nrodas = n\n",
        "\n",
        "bmw = Automovel()\n",
        "bmw._nrodas\n",
        "\n",
        "bmw.set_nrodas(9)\n",
        "bmw._nrodas"
      ]
    }
  ]
}