{
  "nbformat": 4,
  "nbformat_minor": 0,
  "metadata": {
    "colab": {
      "provenance": []
    },
    "kernelspec": {
      "name": "python3",
      "display_name": "Python 3"
    },
    "language_info": {
      "name": "python"
    }
  },
  "cells": [
    {
      "cell_type": "code",
      "execution_count": 1,
      "metadata": {
        "colab": {
          "base_uri": "https://localhost:8080/"
        },
        "id": "jDrFhJCLJ_Qd",
        "outputId": "40d102df-5072-414c-c661-225874a6af0c"
      },
      "outputs": [
        {
          "output_type": "stream",
          "name": "stdout",
          "text": [
            "[181, 100, 40]\n"
          ]
        }
      ],
      "source": [
        "# UNINASSAU\n",
        "# DOCENTE: Cloves Rocha\n",
        "# ESTUDANTES: ...\n",
        "# 11. Um pouco de Álgebra Linear\n",
        "\n",
        "# IMC\n",
        "imc = [181, #altura\n",
        "       100, #peso\n",
        "        40] #idade\n",
        "print(imc)"
      ]
    },
    {
      "cell_type": "code",
      "source": [
        "notas = [10, #nota1\n",
        "          9, #nota2\n",
        "          8, #nota3\n",
        "          7] #nota4\n",
        "print(notas)"
      ],
      "metadata": {
        "colab": {
          "base_uri": "https://localhost:8080/"
        },
        "id": "TplDgvcuLnUu",
        "outputId": "211b1951-79d1-4664-af32-248a497a3117"
      },
      "execution_count": 2,
      "outputs": [
        {
          "output_type": "stream",
          "name": "stdout",
          "text": [
            "[10, 9, 8, 7]\n"
          ]
        }
      ]
    },
    {
      "cell_type": "code",
      "source": [
        "def vetadd(vet1, vet2):\n",
        "  #soma elementos correspondentes\n",
        "return [vet1_i + vet2_i\n",
        "        for vet1_i, vet2_i in zip(vet1, vet2)]"
      ],
      "metadata": {
        "id": "sQuqHLVGMFbC"
      },
      "execution_count": null,
      "outputs": []
    },
    {
      "cell_type": "code",
      "source": [],
      "metadata": {
        "id": "kzPdkGZcOO-5"
      },
      "execution_count": null,
      "outputs": []
    },
    {
      "cell_type": "code",
      "source": [
        "def vetsub(vet1, vet2):\n",
        "  #subtrai elementos correspondentes\n",
        "return [vet1_i - vet2_i\n",
        "        for vet1_i, vet2_i in zip(vet1, vet2)]\n"
      ],
      "metadata": {
        "id": "KiKF_1WkNjVo"
      },
      "execution_count": null,
      "outputs": []
    },
    {
      "cell_type": "code",
      "source": [
        "def vet_sum(vets):\n",
        "  return reduz(vet_add, vets)\n",
        "vet_sum = part(reduz, vet_add)"
      ],
      "metadata": {
        "id": "FuHRCUvXOQoE"
      },
      "execution_count": null,
      "outputs": []
    },
    {
      "cell_type": "code",
      "source": [
        "def scalar_mult(n, v):\n",
        "  # n é um número, v é um vetor\n",
        "return [n * v_i for v_i in v]"
      ],
      "metadata": {
        "id": "aM7rXlQ7OvIo"
      },
      "execution_count": null,
      "outputs": []
    },
    {
      "cell_type": "code",
      "source": [
        "# Matrizes\n",
        "import numpy as np #numpy é uma biblioteca importante\n",
        "\n",
        "matriz = np.array([[1,2,3], [4,5,6], [7,8,9]])\n",
        "print(matriz)"
      ],
      "metadata": {
        "colab": {
          "base_uri": "https://localhost:8080/"
        },
        "id": "FLVv5G4DPJS2",
        "outputId": "92164ed6-9bc0-40cb-d888-3c2a2fdceb24"
      },
      "execution_count": 4,
      "outputs": [
        {
          "output_type": "stream",
          "name": "stdout",
          "text": [
            "[[1 2 3]\n",
            " [4 5 6]\n",
            " [7 8 9]]\n"
          ]
        }
      ]
    },
    {
      "cell_type": "code",
      "source": [
        "elemento = matriz[0,1]\n",
        "#Obtém o elemento na linha 0 e coluna 1(valor2)\n",
        "#Obtendo o número de linhas e colunas\n",
        "num_linhas = matriz.shape[0] #Retorna o num de linhas(3)\n",
        "num_colunas = matriz.shape[1] #Retorna o num de colunas(3)\n",
        "\n",
        "#Iterando sobre elementos da matriz\n",
        "for linha in matriz:\n",
        " for elemento in linha:\n",
        "  print(elemento)"
      ],
      "metadata": {
        "id": "XhWQxlxZRMCw"
      },
      "execution_count": null,
      "outputs": []
    },
    {
      "cell_type": "code",
      "source": [
        "# Operações matriciais"
      ],
      "metadata": {
        "id": "VBwoK05gULBH"
      },
      "execution_count": null,
      "outputs": []
    }
  ]
}